{
 "cells": [
  {
   "cell_type": "code",
   "execution_count": 1,
   "metadata": {},
   "outputs": [],
   "source": [
    "import cudf\n",
    "import numpy as np\n",
    "import pandas as pd\n"
   ]
  },
  {
   "cell_type": "markdown",
   "metadata": {},
   "source": [
    "# Ethylene data\n",
    "\n",
    "Downloaded from the UCI ML repository.\n",
    "\n",
    "Link: http://archive.ics.uci.edu/ml/datasets/gas+sensor+array+under+dynamic+gas+mixtures"
   ]
  },
  {
   "cell_type": "code",
   "execution_count": 9,
   "metadata": {},
   "outputs": [],
   "source": [
    "gpudf = cudf.read_csv('data/ethylene_CO.txt', \n",
    "                      names=['Time (seconds)', \n",
    "                             'CO conc (ppm)', \n",
    "                             'Ethylene conc (ppm)', \n",
    "                             'sensor readings (16 channels)'], \n",
    "                      # dtype has to be specified as strings\n",
    "                      dtype=['float64', 'float64', 'float64', 'float64']\n",
    "                     )"
   ]
  },
  {
   "cell_type": "code",
   "execution_count": 7,
   "metadata": {},
   "outputs": [
    {
     "data": {
      "text/plain": [
       "<cudf.DataFrame ncols=4 nrows=4208262 >"
      ]
     },
     "execution_count": 7,
     "metadata": {},
     "output_type": "execute_result"
    }
   ],
   "source": [
    "gpudf"
   ]
  },
  {
   "cell_type": "code",
   "execution_count": null,
   "metadata": {},
   "outputs": [],
   "source": []
  }
 ],
 "metadata": {
  "kernelspec": {
   "display_name": "rapids-test",
   "language": "python",
   "name": "rapids-test"
  },
  "language_info": {
   "codemirror_mode": {
    "name": "ipython",
    "version": 3
   },
   "file_extension": ".py",
   "mimetype": "text/x-python",
   "name": "python",
   "nbconvert_exporter": "python",
   "pygments_lexer": "ipython3",
   "version": "3.6.7"
  }
 },
 "nbformat": 4,
 "nbformat_minor": 2
}
